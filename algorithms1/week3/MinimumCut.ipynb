{
 "cells": [
  {
   "cell_type": "code",
   "execution_count": 1,
   "metadata": {},
   "outputs": [],
   "source": [
    "import qualified Data.HashMap.Strict as H\n",
    "import System.Random\n",
    "import Control.Concurrent.Async\n",
    "\n",
    "content <- map words . lines <$> readFile \"kargerMinCut.txt\"\n",
    "\n",
    "choose ls = do\n",
    "    idx <- randomRIO (0, length ls - 1)\n",
    "    return $ ls !! idx\n",
    "\n",
    "chooseOther one ls = do\n",
    "    other <- choose ls\n",
    "    if other == one then chooseOther one ls else return (one, other)"
   ]
  },
  {
   "cell_type": "code",
   "execution_count": 2,
   "metadata": {},
   "outputs": [],
   "source": [
    "import Data.List (foldl')\n",
    "\n",
    "add adj (x:xs) = H.insert x xs adj\n",
    "\n",
    "adj = foldl' add H.empty content"
   ]
  },
  {
   "cell_type": "code",
   "execution_count": 15,
   "metadata": {},
   "outputs": [],
   "source": [
    "contract adj a b = let\n",
    "    edgesA  = adj H.! a\n",
    "    edgesB  = adj H.! b\n",
    "    -- Remove self loops\n",
    "    edgesAB = filter (\\e -> e `notElem` [a, b]) $ edgesA ++ edgesB\n",
    "    -- New vertex name\n",
    "    newV    = a ++ (',':b)\n",
    "    -- Remove old vertices\n",
    "    adj'    = H.delete a (H.delete b adj)\n",
    "    -- Add new vertex\n",
    "    adj''   = H.insert newV edgesAB adj'\n",
    "    -- Rewrite all occurrences of a b to point to newV\n",
    "    in map (\\e -> if e `elem` [a, b] then newV else e) <$> adj''\n",
    "    \n",
    "karger adj \n",
    "    | H.size adj == 2 = return adj\n",
    "    | otherwise = do\n",
    "        let keys = H.keys adj\n",
    "        one  <- choose keys\n",
    "        pair <- chooseOther one (adj H.! one)\n",
    "        let adj' = uncurry (contract adj) pair\n",
    "        karger adj'"
   ]
  },
  {
   "cell_type": "code",
   "execution_count": 16,
   "metadata": {},
   "outputs": [
    {
     "data": {
      "text/plain": [
       "17"
      ]
     },
     "metadata": {},
     "output_type": "display_data"
    }
   ],
   "source": [
    "multiple n adj = replicateConcurrently n (length . head . H.elems <$> karger adj)\n",
    "\n",
    "minimum <$> multiple 50 adj"
   ]
  },
  {
   "cell_type": "code",
   "execution_count": 17,
   "metadata": {},
   "outputs": [
    {
     "data": {
      "text/plain": [
       "17"
      ]
     },
     "metadata": {},
     "output_type": "display_data"
    }
   ],
   "source": [
    "minimum <$> multiple 100 adj"
   ]
  },
  {
   "cell_type": "code",
   "execution_count": 18,
   "metadata": {},
   "outputs": [
    {
     "data": {
      "text/plain": [
       "17"
      ]
     },
     "metadata": {},
     "output_type": "display_data"
    }
   ],
   "source": [
    "minimum <$> multiple 100 adj"
   ]
  },
  {
   "cell_type": "code",
   "execution_count": 20,
   "metadata": {},
   "outputs": [
    {
     "data": {
      "text/plain": [
       "17"
      ]
     },
     "metadata": {},
     "output_type": "display_data"
    }
   ],
   "source": [
    "minimum <$> multiple 50 adj"
   ]
  },
  {
   "cell_type": "code",
   "execution_count": null,
   "metadata": {},
   "outputs": [],
   "source": [
    "minimum <$> multiple 100 adj"
   ]
  },
  {
   "cell_type": "code",
   "execution_count": null,
   "metadata": {},
   "outputs": [],
   "source": [
    "minimum <$> multiple 100 adj"
   ]
  }
 ],
 "metadata": {
  "kernelspec": {
   "display_name": "Haskell",
   "language": "haskell",
   "name": "haskell"
  },
  "language_info": {
   "codemirror_mode": "ihaskell",
   "file_extension": ".hs",
   "name": "haskell",
   "version": "8.0.2"
  }
 },
 "nbformat": 4,
 "nbformat_minor": 2
}

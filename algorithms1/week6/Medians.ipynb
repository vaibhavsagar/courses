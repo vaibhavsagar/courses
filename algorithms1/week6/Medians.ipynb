{
 "cells": [
  {
   "cell_type": "code",
   "execution_count": 1,
   "metadata": {
    "collapsed": true,
    "deletable": true,
    "editable": true
   },
   "outputs": [],
   "source": [
    "import qualified Data.Heap             as H\n",
    "import qualified Data.ByteString       as B\n",
    "import qualified Data.ByteString.Char8 as BC\n",
    "\n",
    "import Data.Maybe (fromJust)\n",
    "\n",
    "content <- map (fst. fromJust . BC.readInt) . BC.lines <$> B.readFile \"median.txt\""
   ]
  },
  {
   "cell_type": "code",
   "execution_count": 2,
   "metadata": {
    "collapsed": false,
    "deletable": true,
    "editable": true
   },
   "outputs": [],
   "source": [
    "import Data.List (foldl')\n",
    "\n",
    "state = (H.empty :: H.MaxHeap Int, H.empty :: H.MinHeap Int, [])\n",
    "\n",
    "run :: (H.MaxHeap Int, H.MinHeap Int, [Int]) -> [Int] -> (H.MaxHeap Int, H.MinHeap Int, [Int]) \n",
    "run s c= foldl' (\\(low, high, meds) value -> let\n",
    "    (low', high')   = if H.size low == 0 || value < (fromJust $ H.viewHead low)\n",
    "        then (H.insert value low, high)\n",
    "        else (low, H.insert value high)\n",
    "    (low'', high'') = case () of\n",
    "        _   | H.size high' - H.size low' > 1 -> let\n",
    "                (e, newH) = fromJust $ H.view high'\n",
    "                newL      = H.insert e low'\n",
    "                in (newL, newH)\n",
    "            | H.size low' - H.size high' > 1 -> let\n",
    "                (e, newL) = fromJust $ H.view low'\n",
    "                newH      = H.insert e high'\n",
    "                in (newL, newH)\n",
    "            | otherwise -> (low', high')\n",
    "    med             = fromJust $ if H.size high'' > H.size low'' then H.viewHead high'' else H.viewHead low''\n",
    "    in (low'', high'', med:meds)) s c"
   ]
  },
  {
   "cell_type": "code",
   "execution_count": 3,
   "metadata": {
    "collapsed": false,
    "deletable": true,
    "editable": true
   },
   "outputs": [
    {
     "data": {
      "text/plain": [
       "1213"
      ]
     },
     "metadata": {},
     "output_type": "display_data"
    }
   ],
   "source": [
    "(_, _, meds) = run state content\n",
    "\n",
    "sum meds `mod` 10000"
   ]
  }
 ],
 "metadata": {
  "kernelspec": {
   "display_name": "Haskell",
   "language": "haskell",
   "name": "haskell"
  },
  "language_info": {
   "codemirror_mode": "ihaskell",
   "file_extension": ".hs",
   "name": "haskell",
   "version": "8.0.2"
  }
 },
 "nbformat": 4,
 "nbformat_minor": 2
}
